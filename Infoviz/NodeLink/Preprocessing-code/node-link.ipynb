{
 "cells": [
  {
   "cell_type": "code",
   "execution_count": 1,
   "metadata": {},
   "outputs": [],
   "source": [
    "import pandas as pd\n",
    "import networkx as nx"
   ]
  },
  {
   "cell_type": "code",
   "execution_count": 2,
   "metadata": {},
   "outputs": [],
   "source": [
    "df = pd.read_csv(\"com-amazon.ungraph.txt\", delimiter=\"\\t\", header=None, names=[\"source\", \"target\"])"
   ]
  },
  {
   "cell_type": "code",
   "execution_count": 3,
   "metadata": {},
   "outputs": [
    {
     "data": {
      "text/html": [
       "<div>\n",
       "<style scoped>\n",
       "    .dataframe tbody tr th:only-of-type {\n",
       "        vertical-align: middle;\n",
       "    }\n",
       "\n",
       "    .dataframe tbody tr th {\n",
       "        vertical-align: top;\n",
       "    }\n",
       "\n",
       "    .dataframe thead th {\n",
       "        text-align: right;\n",
       "    }\n",
       "</style>\n",
       "<table border=\"1\" class=\"dataframe\">\n",
       "  <thead>\n",
       "    <tr style=\"text-align: right;\">\n",
       "      <th></th>\n",
       "      <th>source</th>\n",
       "      <th>target</th>\n",
       "    </tr>\n",
       "  </thead>\n",
       "  <tbody>\n",
       "    <tr>\n",
       "      <th>0</th>\n",
       "      <td>1</td>\n",
       "      <td>88160</td>\n",
       "    </tr>\n",
       "    <tr>\n",
       "      <th>1</th>\n",
       "      <td>1</td>\n",
       "      <td>118052</td>\n",
       "    </tr>\n",
       "    <tr>\n",
       "      <th>2</th>\n",
       "      <td>1</td>\n",
       "      <td>161555</td>\n",
       "    </tr>\n",
       "    <tr>\n",
       "      <th>3</th>\n",
       "      <td>1</td>\n",
       "      <td>244916</td>\n",
       "    </tr>\n",
       "    <tr>\n",
       "      <th>4</th>\n",
       "      <td>1</td>\n",
       "      <td>346495</td>\n",
       "    </tr>\n",
       "    <tr>\n",
       "      <th>...</th>\n",
       "      <td>...</td>\n",
       "      <td>...</td>\n",
       "    </tr>\n",
       "    <tr>\n",
       "      <th>925867</th>\n",
       "      <td>548343</td>\n",
       "      <td>548378</td>\n",
       "    </tr>\n",
       "    <tr>\n",
       "      <th>925868</th>\n",
       "      <td>548354</td>\n",
       "      <td>548356</td>\n",
       "    </tr>\n",
       "    <tr>\n",
       "      <th>925869</th>\n",
       "      <td>548368</td>\n",
       "      <td>548454</td>\n",
       "    </tr>\n",
       "    <tr>\n",
       "      <th>925870</th>\n",
       "      <td>548391</td>\n",
       "      <td>548411</td>\n",
       "    </tr>\n",
       "    <tr>\n",
       "      <th>925871</th>\n",
       "      <td>548411</td>\n",
       "      <td>548458</td>\n",
       "    </tr>\n",
       "  </tbody>\n",
       "</table>\n",
       "<p>925872 rows × 2 columns</p>\n",
       "</div>"
      ],
      "text/plain": [
       "        source  target\n",
       "0            1   88160\n",
       "1            1  118052\n",
       "2            1  161555\n",
       "3            1  244916\n",
       "4            1  346495\n",
       "...        ...     ...\n",
       "925867  548343  548378\n",
       "925868  548354  548356\n",
       "925869  548368  548454\n",
       "925870  548391  548411\n",
       "925871  548411  548458\n",
       "\n",
       "[925872 rows x 2 columns]"
      ]
     },
     "execution_count": 3,
     "metadata": {},
     "output_type": "execute_result"
    }
   ],
   "source": [
    "df"
   ]
  },
  {
   "cell_type": "code",
   "execution_count": 4,
   "metadata": {},
   "outputs": [],
   "source": [
    "#Using networkx to create an undirected grpah\n",
    "G = nx.from_pandas_edgelist(df, source='source', target='target')\n"
   ]
  },
  {
   "cell_type": "code",
   "execution_count": 5,
   "metadata": {},
   "outputs": [
    {
     "data": {
      "text/plain": [
       "np.int64(548091)"
      ]
     },
     "execution_count": 5,
     "metadata": {},
     "output_type": "execute_result"
    }
   ],
   "source": [
    "#Finding the most popular product node using degree. \n",
    "degree_table=pd.DataFrame(G.degree(), columns=['id', 'degree']).sort_values(by='degree', ascending=False)\n",
    "most_popular=degree_table.head(1)  \n",
    "most_popular_id =most_popular['id'].values[0]\n",
    "most_popular_id\n"
   ]
  },
  {
   "cell_type": "code",
   "execution_count": 6,
   "metadata": {},
   "outputs": [],
   "source": [
    "# level-1 co-occurences of most popular product\n",
    "co_occurrences=df[(df['source'] == most_popular_id) | (df['target'] == most_popular_id)]"
   ]
  },
  {
   "cell_type": "code",
   "execution_count": 7,
   "metadata": {},
   "outputs": [],
   "source": [
    "#2nd level co-occurrences (products co-purchased with the 1st-level products)\n",
    "level1 = co_occurrences['source'].astype(int).tolist() + co_occurrences['target'].astype(int).tolist()\n",
    "level1 = list(set(level1))  "
   ]
  },
  {
   "cell_type": "code",
   "execution_count": 8,
   "metadata": {},
   "outputs": [],
   "source": [
    "level2 = df[df['source'].isin(level1) | df['target'].isin(level1)]"
   ]
  },
  {
   "cell_type": "code",
   "execution_count": 9,
   "metadata": {},
   "outputs": [],
   "source": [
    "level2.to_csv('Filtered-data-nodelink.csv', index=False, header=['source', 'target'])"
   ]
  },
  {
   "cell_type": "code",
   "execution_count": 10,
   "metadata": {},
   "outputs": [
    {
     "data": {
      "text/html": [
       "<div>\n",
       "<style scoped>\n",
       "    .dataframe tbody tr th:only-of-type {\n",
       "        vertical-align: middle;\n",
       "    }\n",
       "\n",
       "    .dataframe tbody tr th {\n",
       "        vertical-align: top;\n",
       "    }\n",
       "\n",
       "    .dataframe thead th {\n",
       "        text-align: right;\n",
       "    }\n",
       "</style>\n",
       "<table border=\"1\" class=\"dataframe\">\n",
       "  <thead>\n",
       "    <tr style=\"text-align: right;\">\n",
       "      <th></th>\n",
       "      <th>source</th>\n",
       "      <th>target</th>\n",
       "    </tr>\n",
       "  </thead>\n",
       "  <tbody>\n",
       "    <tr>\n",
       "      <th>195</th>\n",
       "      <td>59</td>\n",
       "      <td>194736</td>\n",
       "    </tr>\n",
       "    <tr>\n",
       "      <th>800</th>\n",
       "      <td>254</td>\n",
       "      <td>547522</td>\n",
       "    </tr>\n",
       "    <tr>\n",
       "      <th>801</th>\n",
       "      <td>254</td>\n",
       "      <td>548091</td>\n",
       "    </tr>\n",
       "    <tr>\n",
       "      <th>6282</th>\n",
       "      <td>1875</td>\n",
       "      <td>308631</td>\n",
       "    </tr>\n",
       "    <tr>\n",
       "      <th>6283</th>\n",
       "      <td>1875</td>\n",
       "      <td>364287</td>\n",
       "    </tr>\n",
       "    <tr>\n",
       "      <th>...</th>\n",
       "      <td>...</td>\n",
       "      <td>...</td>\n",
       "    </tr>\n",
       "    <tr>\n",
       "      <th>925834</th>\n",
       "      <td>548078</td>\n",
       "      <td>548305</td>\n",
       "    </tr>\n",
       "    <tr>\n",
       "      <th>925835</th>\n",
       "      <td>548085</td>\n",
       "      <td>548091</td>\n",
       "    </tr>\n",
       "    <tr>\n",
       "      <th>925840</th>\n",
       "      <td>548091</td>\n",
       "      <td>548185</td>\n",
       "    </tr>\n",
       "    <tr>\n",
       "      <th>925841</th>\n",
       "      <td>548091</td>\n",
       "      <td>548280</td>\n",
       "    </tr>\n",
       "    <tr>\n",
       "      <th>925842</th>\n",
       "      <td>548091</td>\n",
       "      <td>548305</td>\n",
       "    </tr>\n",
       "  </tbody>\n",
       "</table>\n",
       "<p>1813 rows × 2 columns</p>\n",
       "</div>"
      ],
      "text/plain": [
       "        source  target\n",
       "195         59  194736\n",
       "800        254  547522\n",
       "801        254  548091\n",
       "6282      1875  308631\n",
       "6283      1875  364287\n",
       "...        ...     ...\n",
       "925834  548078  548305\n",
       "925835  548085  548091\n",
       "925840  548091  548185\n",
       "925841  548091  548280\n",
       "925842  548091  548305\n",
       "\n",
       "[1813 rows x 2 columns]"
      ]
     },
     "execution_count": 10,
     "metadata": {},
     "output_type": "execute_result"
    }
   ],
   "source": [
    "level2"
   ]
  },
  {
   "cell_type": "code",
   "execution_count": null,
   "metadata": {},
   "outputs": [],
   "source": []
  }
 ],
 "metadata": {
  "kernelspec": {
   "display_name": "Python 3",
   "language": "python",
   "name": "python3"
  },
  "language_info": {
   "codemirror_mode": {
    "name": "ipython",
    "version": 3
   },
   "file_extension": ".py",
   "mimetype": "text/x-python",
   "name": "python",
   "nbconvert_exporter": "python",
   "pygments_lexer": "ipython3",
   "version": "3.12.7"
  }
 },
 "nbformat": 4,
 "nbformat_minor": 2
}
